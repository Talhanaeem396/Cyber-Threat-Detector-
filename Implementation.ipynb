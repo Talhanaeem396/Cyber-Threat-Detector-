{
 "cells": [
  {
   "cell_type": "markdown",
   "id": "d7320bd1",
   "metadata": {
    "papermill": {
     "duration": 0.009411,
     "end_time": "2023-10-21T07:20:12.361055",
     "exception": false,
     "start_time": "2023-10-21T07:20:12.351644",
     "status": "completed"
    },
    "tags": []
   },
   "source": [
    "### **Import all the necessary libraries**\n"
   ]
  },
  {
   "cell_type": "code",
   "execution_count": null,
   "id": "a9185e15",
   "metadata": {
    "execution": {
     "iopub.execute_input": "2023-10-21T07:20:12.382826Z",
     "iopub.status.busy": "2023-10-21T07:20:12.382065Z",
     "iopub.status.idle": "2023-10-21T07:20:13.697865Z",
     "shell.execute_reply": "2023-10-21T07:20:13.697119Z"
    },
    "papermill": {
     "duration": 1.329296,
     "end_time": "2023-10-21T07:20:13.700048",
     "exception": false,
     "start_time": "2023-10-21T07:20:12.370752",
     "status": "completed"
    },
    "tags": []
   },
   "outputs": [],
   "source": [
    "import pandas as pd\n",
    "import numpy as np\n",
    "import matplotlib.pyplot as plt\n",
    "import seaborn as sns"
   ]
  },
  {
   "cell_type": "markdown",
   "id": "e50e6d08",
   "metadata": {
    "papermill": {
     "duration": 0.01083,
     "end_time": "2023-10-21T07:20:13.721867",
     "exception": false,
     "start_time": "2023-10-21T07:20:13.711037",
     "status": "completed"
    },
    "tags": []
   },
   "source": [
    "### **Load the dataset**"
   ]
  },
  {
   "cell_type": "code",
   "execution_count": null,
   "id": "b4b354d0",
   "metadata": {
    "execution": {
     "iopub.execute_input": "2023-10-21T07:20:13.744956Z",
     "iopub.status.busy": "2023-10-21T07:20:13.744013Z",
     "iopub.status.idle": "2023-10-21T07:20:14.417528Z",
     "shell.execute_reply": "2023-10-21T07:20:14.416521Z"
    },
    "papermill": {
     "duration": 0.687516,
     "end_time": "2023-10-21T07:20:14.420065",
     "exception": false,
     "start_time": "2023-10-21T07:20:13.732549",
     "status": "completed"
    },
    "tags": []
   },
   "outputs": [],
   "source": [
    "cyber_sec_dataset=pd.read_csv(\"cybersecurity_attacks.csv\")"
   ]
  },
  {
   "cell_type": "markdown",
   "id": "d35b08e9",
   "metadata": {
    "papermill": {
     "duration": 0.010027,
     "end_time": "2023-10-21T07:20:14.440659",
     "exception": false,
     "start_time": "2023-10-21T07:20:14.430632",
     "status": "completed"
    },
    "tags": []
   },
   "source": [
    "## **Exploring the Dataset**"
   ]
  },
  {
   "cell_type": "code",
   "execution_count": null,
   "id": "6bda48c9",
   "metadata": {
    "execution": {
     "iopub.execute_input": "2023-10-21T07:20:14.462839Z",
     "iopub.status.busy": "2023-10-21T07:20:14.462449Z",
     "iopub.status.idle": "2023-10-21T07:20:14.497915Z",
     "shell.execute_reply": "2023-10-21T07:20:14.496934Z"
    },
    "papermill": {
     "duration": 0.048914,
     "end_time": "2023-10-21T07:20:14.499815",
     "exception": false,
     "start_time": "2023-10-21T07:20:14.450901",
     "status": "completed"
    },
    "tags": []
   },
   "outputs": [],
   "source": [
    "cyber_sec_dataset.head()"
   ]
  },
  {
   "cell_type": "code",
   "execution_count": null,
   "id": "8baad354",
   "metadata": {
    "execution": {
     "iopub.execute_input": "2023-10-21T07:20:14.521311Z",
     "iopub.status.busy": "2023-10-21T07:20:14.520994Z",
     "iopub.status.idle": "2023-10-21T07:20:14.618381Z",
     "shell.execute_reply": "2023-10-21T07:20:14.617006Z"
    },
    "papermill": {
     "duration": 0.110783,
     "end_time": "2023-10-21T07:20:14.620829",
     "exception": false,
     "start_time": "2023-10-21T07:20:14.510046",
     "status": "completed"
    },
    "tags": []
   },
   "outputs": [],
   "source": [
    "cyber_sec_dataset.info() # Dataset Information"
   ]
  },
  {
   "cell_type": "code",
   "execution_count": null,
   "id": "1472e06d",
   "metadata": {
    "execution": {
     "iopub.execute_input": "2023-10-21T07:20:14.643712Z",
     "iopub.status.busy": "2023-10-21T07:20:14.643383Z",
     "iopub.status.idle": "2023-10-21T07:20:14.650680Z",
     "shell.execute_reply": "2023-10-21T07:20:14.649714Z"
    },
    "papermill": {
     "duration": 0.020809,
     "end_time": "2023-10-21T07:20:14.652705",
     "exception": false,
     "start_time": "2023-10-21T07:20:14.631896",
     "status": "completed"
    },
    "tags": []
   },
   "outputs": [],
   "source": [
    "cyber_sec_dataset.shape  # Dataset Shape"
   ]
  },
  {
   "cell_type": "code",
   "execution_count": null,
   "id": "83444b04",
   "metadata": {
    "execution": {
     "iopub.execute_input": "2023-10-21T07:20:14.675059Z",
     "iopub.status.busy": "2023-10-21T07:20:14.674742Z",
     "iopub.status.idle": "2023-10-21T07:20:14.703562Z",
     "shell.execute_reply": "2023-10-21T07:20:14.702798Z"
    },
    "papermill": {
     "duration": 0.041924,
     "end_time": "2023-10-21T07:20:14.705352",
     "exception": false,
     "start_time": "2023-10-21T07:20:14.663428",
     "status": "completed"
    },
    "tags": []
   },
   "outputs": [],
   "source": [
    "cyber_sec_dataset.describe()   # Statistics\n",
    "    "
   ]
  },
  {
   "cell_type": "markdown",
   "id": "09976647",
   "metadata": {
    "papermill": {
     "duration": 0.010782,
     "end_time": "2023-10-21T07:20:14.727198",
     "exception": false,
     "start_time": "2023-10-21T07:20:14.716416",
     "status": "completed"
    },
    "tags": []
   },
   "source": [
    "## **Cleaning the Data**"
   ]
  },
  {
   "cell_type": "code",
   "execution_count": null,
   "id": "de6fe88e",
   "metadata": {
    "execution": {
     "iopub.execute_input": "2023-10-21T07:20:14.751558Z",
     "iopub.status.busy": "2023-10-21T07:20:14.750990Z",
     "iopub.status.idle": "2023-10-21T07:20:14.836173Z",
     "shell.execute_reply": "2023-10-21T07:20:14.835197Z"
    },
    "papermill": {
     "duration": 0.100125,
     "end_time": "2023-10-21T07:20:14.838200",
     "exception": false,
     "start_time": "2023-10-21T07:20:14.738075",
     "status": "completed"
    },
    "tags": []
   },
   "outputs": [],
   "source": [
    "cyber_sec_dataset.isnull().sum()  # Missing Values"
   ]
  },
  {
   "cell_type": "code",
   "execution_count": null,
   "id": "3879d14a",
   "metadata": {
    "execution": {
     "iopub.execute_input": "2023-10-21T07:20:14.862741Z",
     "iopub.status.busy": "2023-10-21T07:20:14.862408Z",
     "iopub.status.idle": "2023-10-21T07:20:14.941170Z",
     "shell.execute_reply": "2023-10-21T07:20:14.940246Z"
    },
    "papermill": {
     "duration": 0.093694,
     "end_time": "2023-10-21T07:20:14.943546",
     "exception": false,
     "start_time": "2023-10-21T07:20:14.849852",
     "status": "completed"
    },
    "tags": []
   },
   "outputs": [],
   "source": [
    "cyber_sec_dataset.dropna(inplace=True)  # Handling Missing Values"
   ]
  },
  {
   "cell_type": "code",
   "execution_count": null,
   "id": "58e44940",
   "metadata": {
    "execution": {
     "iopub.execute_input": "2023-10-21T07:20:14.966728Z",
     "iopub.status.busy": "2023-10-21T07:20:14.966433Z",
     "iopub.status.idle": "2023-10-21T07:20:14.977169Z",
     "shell.execute_reply": "2023-10-21T07:20:14.976275Z"
    },
    "papermill": {
     "duration": 0.024279,
     "end_time": "2023-10-21T07:20:14.979041",
     "exception": false,
     "start_time": "2023-10-21T07:20:14.954762",
     "status": "completed"
    },
    "tags": []
   },
   "outputs": [],
   "source": [
    "cyber_sec_dataset.isnull().sum()"
   ]
  },
  {
   "cell_type": "code",
   "execution_count": null,
   "id": "6c6fd88e",
   "metadata": {
    "execution": {
     "iopub.execute_input": "2023-10-21T07:20:15.002766Z",
     "iopub.status.busy": "2023-10-21T07:20:15.002434Z",
     "iopub.status.idle": "2023-10-21T07:20:15.008496Z",
     "shell.execute_reply": "2023-10-21T07:20:15.007603Z"
    },
    "papermill": {
     "duration": 0.02043,
     "end_time": "2023-10-21T07:20:15.010556",
     "exception": false,
     "start_time": "2023-10-21T07:20:14.990126",
     "status": "completed"
    },
    "tags": []
   },
   "outputs": [],
   "source": [
    "cyber_sec_dataset.shape"
   ]
  },
  {
   "cell_type": "code",
   "execution_count": null,
   "id": "a5d25d95",
   "metadata": {
    "execution": {
     "iopub.execute_input": "2023-10-21T07:20:15.034451Z",
     "iopub.status.busy": "2023-10-21T07:20:15.034185Z",
     "iopub.status.idle": "2023-10-21T07:20:15.049705Z",
     "shell.execute_reply": "2023-10-21T07:20:15.048888Z"
    },
    "papermill": {
     "duration": 0.030208,
     "end_time": "2023-10-21T07:20:15.051743",
     "exception": false,
     "start_time": "2023-10-21T07:20:15.021535",
     "status": "completed"
    },
    "tags": []
   },
   "outputs": [],
   "source": [
    "# Get total No of Duplicate Rows\n",
    "cyber_sec_dataset.duplicated().sum() "
   ]
  },
  {
   "cell_type": "code",
   "execution_count": null,
   "id": "bad352a9",
   "metadata": {
    "execution": {
     "iopub.execute_input": "2023-10-21T07:20:15.076347Z",
     "iopub.status.busy": "2023-10-21T07:20:15.076063Z",
     "iopub.status.idle": "2023-10-21T07:20:15.096690Z",
     "shell.execute_reply": "2023-10-21T07:20:15.096088Z"
    },
    "papermill": {
     "duration": 0.035056,
     "end_time": "2023-10-21T07:20:15.098390",
     "exception": false,
     "start_time": "2023-10-21T07:20:15.063334",
     "status": "completed"
    },
    "tags": []
   },
   "outputs": [],
   "source": [
    "cyber_sec_dataset.head()"
   ]
  },
  {
   "cell_type": "markdown",
   "id": "92965152",
   "metadata": {
    "papermill": {
     "duration": 0.011345,
     "end_time": "2023-10-21T07:20:15.121413",
     "exception": false,
     "start_time": "2023-10-21T07:20:15.110068",
     "status": "completed"
    },
    "tags": []
   },
   "source": [
    "## **Data Visualization**"
   ]
  },
  {
   "cell_type": "code",
   "execution_count": null,
   "id": "ad3a1148",
   "metadata": {
    "execution": {
     "iopub.execute_input": "2023-10-21T07:20:15.146539Z",
     "iopub.status.busy": "2023-10-21T07:20:15.145697Z",
     "iopub.status.idle": "2023-10-21T07:20:15.150874Z",
     "shell.execute_reply": "2023-10-21T07:20:15.150290Z"
    },
    "papermill": {
     "duration": 0.019611,
     "end_time": "2023-10-21T07:20:15.152852",
     "exception": false,
     "start_time": "2023-10-21T07:20:15.133241",
     "status": "completed"
    },
    "tags": []
   },
   "outputs": [],
   "source": [
    "cyber_sec_dataset['Payload Data'].dtype\n",
    "# Convert your_data to a string\n",
    "\n",
    "text = str(cyber_sec_dataset['Payload Data'])  \n"
   ]
  },
  {
   "cell_type": "markdown",
   "id": "724d1663",
   "metadata": {
    "papermill": {
     "duration": 0.011117,
     "end_time": "2023-10-21T07:20:15.206850",
     "exception": false,
     "start_time": "2023-10-21T07:20:15.195733",
     "status": "completed"
    },
    "tags": []
   },
   "source": [
    "**Word Cloud**"
   ]
  },
  {
   "cell_type": "code",
   "execution_count": null,
   "id": "e744015d",
   "metadata": {
    "execution": {
     "iopub.execute_input": "2023-10-21T07:20:15.232787Z",
     "iopub.status.busy": "2023-10-21T07:20:15.232241Z",
     "iopub.status.idle": "2023-10-21T07:20:15.294340Z",
     "shell.execute_reply": "2023-10-21T07:20:15.293557Z"
    },
    "papermill": {
     "duration": 0.077642,
     "end_time": "2023-10-21T07:20:15.296520",
     "exception": false,
     "start_time": "2023-10-21T07:20:15.218878",
     "status": "completed"
    },
    "tags": []
   },
   "outputs": [],
   "source": [
    "from wordcloud import WordCloud"
   ]
  },
  {
   "cell_type": "code",
   "execution_count": null,
   "id": "1fddc932",
   "metadata": {
    "execution": {
     "iopub.execute_input": "2023-10-21T07:20:15.324784Z",
     "iopub.status.busy": "2023-10-21T07:20:15.324464Z",
     "iopub.status.idle": "2023-10-21T07:20:15.977340Z",
     "shell.execute_reply": "2023-10-21T07:20:15.976274Z"
    },
    "papermill": {
     "duration": 0.671682,
     "end_time": "2023-10-21T07:20:15.981713",
     "exception": false,
     "start_time": "2023-10-21T07:20:15.310031",
     "status": "completed"
    },
    "tags": []
   },
   "outputs": [],
   "source": [
    "# Generate the word cloud\n",
    "wordcloud = WordCloud(width=800, height=400, background_color='white').generate(text)\n",
    "\n",
    "# Display the word cloud\n",
    "plt.figure(figsize=(10, 5))\n",
    "plt.imshow(wordcloud, interpolation='bilinear')\n",
    "plt.axis(\"off\")\n",
    "plt.show()"
   ]
  },
  {
   "cell_type": "markdown",
   "id": "0ee2ba6d",
   "metadata": {
    "papermill": {
     "duration": 0.016437,
     "end_time": "2023-10-21T07:20:16.014665",
     "exception": false,
     "start_time": "2023-10-21T07:20:15.998228",
     "status": "completed"
    },
    "tags": []
   },
   "source": [
    "**Bar Chart**"
   ]
  },
  {
   "cell_type": "code",
   "execution_count": null,
   "id": "15da1ae5",
   "metadata": {
    "execution": {
     "iopub.execute_input": "2023-10-21T07:20:16.092824Z",
     "iopub.status.busy": "2023-10-21T07:20:16.092411Z",
     "iopub.status.idle": "2023-10-21T07:20:16.369275Z",
     "shell.execute_reply": "2023-10-21T07:20:16.368623Z"
    },
    "papermill": {
     "duration": 0.296375,
     "end_time": "2023-10-21T07:20:16.372299",
     "exception": false,
     "start_time": "2023-10-21T07:20:16.075924",
     "status": "completed"
    },
    "tags": []
   },
   "outputs": [],
   "source": [
    "# Visualize the distribution of attack types\n",
    "\n",
    "attack_counts = cyber_sec_dataset['Attack Type'].value_counts()\n",
    "\n",
    "plt.figure(figsize=(10, 5))\n",
    "sns.barplot(x=attack_counts.index , y=attack_counts)\n",
    "\n",
    "plt.xlabel('Attack Type',fontsize=14, fontweight='bold')\n",
    "plt.ylabel('Count',fontsize=14, fontweight='bold')\n",
    "plt.title('Distribution of Attack Types', fontsize=16)\n",
    "\n",
    "plt.xticks(rotation=45)\n",
    "plt.show()\n",
    "\n",
    "print(attack_counts)"
   ]
  },
  {
   "cell_type": "markdown",
   "id": "8f9a1b6c",
   "metadata": {
    "papermill": {
     "duration": 0.015434,
     "end_time": "2023-10-21T07:20:16.404843",
     "exception": false,
     "start_time": "2023-10-21T07:20:16.389409",
     "status": "completed"
    },
    "tags": []
   },
   "source": [
    "**Pie Charts**"
   ]
  },
  {
   "cell_type": "code",
   "execution_count": null,
   "id": "59b743e8",
   "metadata": {
    "execution": {
     "iopub.execute_input": "2023-10-21T07:20:16.439977Z",
     "iopub.status.busy": "2023-10-21T07:20:16.439265Z",
     "iopub.status.idle": "2023-10-21T07:20:16.447107Z",
     "shell.execute_reply": "2023-10-21T07:20:16.446368Z"
    },
    "papermill": {
     "duration": 0.027119,
     "end_time": "2023-10-21T07:20:16.448840",
     "exception": false,
     "start_time": "2023-10-21T07:20:16.421721",
     "status": "completed"
    },
    "tags": []
   },
   "outputs": [],
   "source": [
    "cyber_sec_dataset['Protocol'].value_counts()"
   ]
  },
  {
   "cell_type": "code",
   "execution_count": null,
   "id": "e09a4c7f",
   "metadata": {
    "execution": {
     "iopub.execute_input": "2023-10-21T07:20:16.482321Z",
     "iopub.status.busy": "2023-10-21T07:20:16.481324Z",
     "iopub.status.idle": "2023-10-21T07:20:16.628569Z",
     "shell.execute_reply": "2023-10-21T07:20:16.627245Z"
    },
    "papermill": {
     "duration": 0.167377,
     "end_time": "2023-10-21T07:20:16.632111",
     "exception": false,
     "start_time": "2023-10-21T07:20:16.464734",
     "status": "completed"
    },
    "tags": []
   },
   "outputs": [],
   "source": [
    "# Data for the pie chart\n",
    "\n",
    "\n",
    "labels = ['UDP', 'ICMP', 'TCP']\n",
    "sizes = cyber_sec_dataset['Protocol'].value_counts()  # Proportional sizes of each category\n",
    "colors = ['red', 'green', 'blue']  # Color for each category segment\n",
    "explode = (0.1, 0, 0)  # Explode a slice if needed (0 means no explosion)\n",
    "\n",
    "\n",
    "# Create a pie chart\n",
    "plt.pie(sizes, labels=labels, colors=colors, explode=explode, autopct='%1.1f%%', startangle=180)\n",
    "\n",
    "\n",
    "plt.axis('equal')  # Equal aspect ratio ensures that pie is drawn as a circle.\n",
    "plt.title('Distribution of Network Traffic Protocols')\n",
    "\n",
    "\n",
    "# Display the pie chart\n",
    "plt.show()\n"
   ]
  },
  {
   "cell_type": "code",
   "execution_count": null,
   "id": "5671c4ba",
   "metadata": {
    "execution": {
     "iopub.execute_input": "2023-10-21T07:20:16.696148Z",
     "iopub.status.busy": "2023-10-21T07:20:16.695760Z",
     "iopub.status.idle": "2023-10-21T07:20:16.703634Z",
     "shell.execute_reply": "2023-10-21T07:20:16.702912Z"
    },
    "papermill": {
     "duration": 0.038062,
     "end_time": "2023-10-21T07:20:16.705467",
     "exception": false,
     "start_time": "2023-10-21T07:20:16.667405",
     "status": "completed"
    },
    "tags": []
   },
   "outputs": [],
   "source": [
    "cyber_sec_dataset['Traffic Type'].value_counts()"
   ]
  },
  {
   "cell_type": "code",
   "execution_count": null,
   "id": "4733f705",
   "metadata": {
    "execution": {
     "iopub.execute_input": "2023-10-21T07:20:16.739718Z",
     "iopub.status.busy": "2023-10-21T07:20:16.738846Z",
     "iopub.status.idle": "2023-10-21T07:20:16.877695Z",
     "shell.execute_reply": "2023-10-21T07:20:16.876434Z"
    },
    "papermill": {
     "duration": 0.159815,
     "end_time": "2023-10-21T07:20:16.881194",
     "exception": false,
     "start_time": "2023-10-21T07:20:16.721379",
     "status": "completed"
    },
    "tags": []
   },
   "outputs": [],
   "source": [
    "# Data for the pie chart\n",
    "\n",
    "labels =['DNS','FTP','HTTP']\n",
    "sizes = cyber_sec_dataset['Traffic Type'].value_counts()\n",
    "colors = ['yellow', 'green', 'orange']\n",
    "explode = (0.1, 0, 0) \n",
    "\n",
    "# Create a pie chart\n",
    "plt.pie(sizes, labels=labels, colors=colors, explode=explode, autopct='%1.1f%%', startangle=90)\n",
    "\n",
    "plt.axis('equal')  \n",
    "plt.title('Distribution of Network Traffic Types')\n",
    "\n",
    "# Display the pie chart\n",
    "plt.show()"
   ]
  },
  {
   "cell_type": "code",
   "execution_count": null,
   "id": "eb588769",
   "metadata": {
    "execution": {
     "iopub.execute_input": "2023-10-21T07:20:16.946887Z",
     "iopub.status.busy": "2023-10-21T07:20:16.946285Z",
     "iopub.status.idle": "2023-10-21T07:20:16.953142Z",
     "shell.execute_reply": "2023-10-21T07:20:16.952480Z"
    },
    "papermill": {
     "duration": 0.036093,
     "end_time": "2023-10-21T07:20:16.954897",
     "exception": false,
     "start_time": "2023-10-21T07:20:16.918804",
     "status": "completed"
    },
    "tags": []
   },
   "outputs": [],
   "source": [
    "cyber_sec_dataset['Action Taken'].value_counts()"
   ]
  },
  {
   "cell_type": "code",
   "execution_count": null,
   "id": "ce4fabf1",
   "metadata": {
    "execution": {
     "iopub.execute_input": "2023-10-21T07:20:16.990462Z",
     "iopub.status.busy": "2023-10-21T07:20:16.989867Z",
     "iopub.status.idle": "2023-10-21T07:20:17.125463Z",
     "shell.execute_reply": "2023-10-21T07:20:17.124229Z"
    },
    "papermill": {
     "duration": 0.156721,
     "end_time": "2023-10-21T07:20:17.128969",
     "exception": false,
     "start_time": "2023-10-21T07:20:16.972248",
     "status": "completed"
    },
    "tags": []
   },
   "outputs": [],
   "source": [
    "labels =['Blocked','Ignored','Logged']\n",
    "sizes =cyber_sec_dataset['Action Taken'].value_counts()\n",
    "colors = ['Red', 'green', 'blue']\n",
    "explode = (0.1, 0, 0) \n",
    "\n",
    "\n",
    "# Create a pie chart\n",
    "plt.pie(sizes, labels=labels, colors=colors, explode=explode, autopct='%1.1f%%', startangle=190)\n",
    "\n",
    "plt.axis('equal')\n",
    "plt.title('Distribution of Actions Taken')\n",
    "\n",
    "# Display the pie chart\n",
    "plt.show()"
   ]
  },
  {
   "cell_type": "code",
   "execution_count": null,
   "id": "d30784e5",
   "metadata": {
    "execution": {
     "iopub.execute_input": "2023-10-21T07:20:17.194949Z",
     "iopub.status.busy": "2023-10-21T07:20:17.194353Z",
     "iopub.status.idle": "2023-10-21T07:20:17.201106Z",
     "shell.execute_reply": "2023-10-21T07:20:17.200491Z"
    },
    "papermill": {
     "duration": 0.036359,
     "end_time": "2023-10-21T07:20:17.203056",
     "exception": false,
     "start_time": "2023-10-21T07:20:17.166697",
     "status": "completed"
    },
    "tags": []
   },
   "outputs": [],
   "source": [
    "cyber_sec_dataset['Packet Type'].value_counts()"
   ]
  },
  {
   "cell_type": "code",
   "execution_count": null,
   "id": "211d0ee1",
   "metadata": {
    "execution": {
     "iopub.execute_input": "2023-10-21T07:20:17.242586Z",
     "iopub.status.busy": "2023-10-21T07:20:17.241836Z",
     "iopub.status.idle": "2023-10-21T07:20:17.366124Z",
     "shell.execute_reply": "2023-10-21T07:20:17.364819Z"
    },
    "papermill": {
     "duration": 0.147197,
     "end_time": "2023-10-21T07:20:17.368391",
     "exception": false,
     "start_time": "2023-10-21T07:20:17.221194",
     "status": "completed"
    },
    "tags": []
   },
   "outputs": [],
   "source": [
    "# Data for the pie chart\n",
    "labels =['Data','Control']\n",
    "sizes = cyber_sec_dataset['Packet Type'].value_counts() \n",
    "colors = ['blue', 'yellow']\n",
    "explode = (0, 0) \n",
    "\n",
    "# Create a pie chart\n",
    "plt.pie(sizes, labels=labels, colors=colors, explode=explode, autopct='%1.1f%%', startangle=90)\n",
    "\n",
    "\n",
    "plt.axis('equal') \n",
    "plt.title('Distribution of Packet Types')\n",
    "\n",
    "# Display the pie chart\n",
    "plt.show()"
   ]
  },
  {
   "cell_type": "code",
   "execution_count": null,
   "id": "4205e54b",
   "metadata": {
    "execution": {
     "iopub.execute_input": "2023-10-21T07:20:17.439411Z",
     "iopub.status.busy": "2023-10-21T07:20:17.438739Z",
     "iopub.status.idle": "2023-10-21T07:20:17.446030Z",
     "shell.execute_reply": "2023-10-21T07:20:17.445341Z"
    },
    "papermill": {
     "duration": 0.040665,
     "end_time": "2023-10-21T07:20:17.447700",
     "exception": false,
     "start_time": "2023-10-21T07:20:17.407035",
     "status": "completed"
    },
    "tags": []
   },
   "outputs": [],
   "source": [
    "\n",
    "print(\"Severity level and their Data in Our Dataset\")\n",
    "cyber_sec_dataset['Severity Level'].value_counts()"
   ]
  },
  {
   "cell_type": "code",
   "execution_count": null,
   "id": "23daa1d1",
   "metadata": {
    "execution": {
     "iopub.execute_input": "2023-10-21T07:20:17.485860Z",
     "iopub.status.busy": "2023-10-21T07:20:17.485296Z",
     "iopub.status.idle": "2023-10-21T07:20:17.628200Z",
     "shell.execute_reply": "2023-10-21T07:20:17.626862Z"
    },
    "papermill": {
     "duration": 0.1659,
     "end_time": "2023-10-21T07:20:17.631892",
     "exception": false,
     "start_time": "2023-10-21T07:20:17.465992",
     "status": "completed"
    },
    "tags": []
   },
   "outputs": [],
   "source": [
    "# Data for the pie chart\n",
    "labels =['High','Medium','Low']\n",
    "sizes =cyber_sec_dataset['Severity Level'].value_counts()\n",
    "colors = ['orange', 'blue','pink'] \n",
    "explode = (0, 0,0)\n",
    "\n",
    "# Create a pie chart\n",
    "plt.pie(sizes, labels=labels, colors=colors, explode=explode, autopct='%1.1f%%', startangle=90)\n",
    "\n",
    "plt.axis('equal') \n",
    "plt.title('Distribution of Severity Levels')\n",
    "\n",
    "# Display the pie chart\n",
    "plt.show()"
   ]
  },
  {
   "cell_type": "code",
   "execution_count": null,
   "id": "701d99b0",
   "metadata": {
    "execution": {
     "iopub.execute_input": "2023-10-21T07:20:17.744724Z",
     "iopub.status.busy": "2023-10-21T07:20:17.744169Z",
     "iopub.status.idle": "2023-10-21T07:20:17.875494Z",
     "shell.execute_reply": "2023-10-21T07:20:17.874036Z"
    },
    "papermill": {
     "duration": 0.154715,
     "end_time": "2023-10-21T07:20:17.878936",
     "exception": false,
     "start_time": "2023-10-21T07:20:17.724221",
     "status": "completed"
    },
    "tags": []
   },
   "outputs": [],
   "source": [
    "\n",
    "labels =['Server','Firewall']\n",
    "sizes =cyber_sec_dataset['Log Source'].value_counts()  \n",
    "colors = ['blue', 'orange']\n",
    "explode = (0, 0) \n",
    "\n",
    "print(cyber_sec_dataset['Log Source'].value_counts())\n",
    "\n",
    "plt.pie(sizes, labels=labels, colors=colors, explode=explode, autopct='%1.1f%%', startangle=270)\n",
    "\n",
    "plt.axis('equal')\n",
    "plt.title('Distribution of Log Sources')\n",
    "\n",
    "# Display the pie chart\n",
    "plt.show()"
   ]
  },
  {
   "cell_type": "code",
   "execution_count": null,
   "id": "1ed85d85",
   "metadata": {},
   "outputs": [],
   "source": [
    "cyber_sec_dataset.columns"
   ]
  },
  {
   "cell_type": "code",
   "execution_count": null,
   "id": "1e688374",
   "metadata": {},
   "outputs": [],
   "source": [
    "print(cyber_sec_dataset[\"Malware Indicators\"].value_counts())\n",
    "#print(cyber_sec_dataset[\"Anomaly Scores\"])\n",
    "print()\n",
    "print(cyber_sec_dataset[\"Severity Level\"].value_counts())\n",
    "print()\n",
    "print(cyber_sec_dataset[\"Attack Signature\"].value_counts())\n",
    "print()\n",
    "print(cyber_sec_dataset[\"Attack Type\"].value_counts())\n",
    "print()\n",
    "print(cyber_sec_dataset['Alerts/Warnings'].value_counts())\n",
    "print()\n",
    "print(cyber_sec_dataset['Log Source'].value_counts())\n",
    "print()\n",
    "print(cyber_sec_dataset[\"Firewall Logs\"].value_counts())\n",
    "print()\n",
    "print(cyber_sec_dataset[\"IDS/IPS Alerts\"].value_counts())\n"
   ]
  },
  {
   "cell_type": "markdown",
   "id": "6cf4f7cb",
   "metadata": {},
   "source": [
    "### **Creating Keras Classification Model for Predicting Attack Type**"
   ]
  },
  {
   "cell_type": "code",
   "execution_count": null,
   "id": "735de425",
   "metadata": {},
   "outputs": [],
   "source": [
    "from sklearn.ensemble import RandomForestClassifier\n",
    "from sklearn.model_selection import train_test_split\n",
    "from sklearn.preprocessing import LabelEncoder\n",
    "from sklearn.metrics import accuracy_score,confusion_matrix,classification_report\n",
    "from sklearn.model_selection import train_test_split\n",
    "from sklearn.preprocessing import StandardScaler\n",
    "from keras.models import Sequential\n",
    "from keras.layers import Dense, Dropout\n",
    "from keras.utils import to_categorical\n"
   ]
  },
  {
   "cell_type": "code",
   "execution_count": null,
   "id": "441eec9d",
   "metadata": {},
   "outputs": [],
   "source": [
    "import socket\n",
    "import struct\n",
    "\n",
    "df_ = cyber_sec_dataset[['Attack Type','Source IP Address', 'Destination IP Address', 'Source Port', 'Destination Port', 'Protocol', 'Packet Length', 'Packet Type', 'Traffic Type', 'Anomaly Scores', 'Alerts/Warnings', 'Severity Level', 'Network Segment', 'Geo-location Data', 'Proxy Information', 'Firewall Logs', 'IDS/IPS Alerts', 'Log Source']]\n",
    "\n",
    "\n",
    "enc = LabelEncoder()\n",
    "\n",
    "for i in ['Attack Type',\"Protocol\",\"Packet Type\",\"Traffic Type\",\"Alerts/Warnings\",\"Severity Level\",\"Network Segment\",\"Geo-location Data\",\"Firewall Logs\",\"IDS/IPS Alerts\",\"Log Source\"]:\n",
    "    df_[i] = enc.fit_transform(df_[i])\n",
    "    \n",
    "def ip_to_integer(ip):\n",
    "    return struct.unpack(\"!I\", socket.inet_aton(ip))[0]\n",
    "\n",
    "# Convert IP addresses to integers\n",
    "df_['Source IP Address'] = df_['Source IP Address'].apply(ip_to_integer)\n",
    "df_['Destination IP Address'] = df_['Destination IP Address'].apply(ip_to_integer)\n",
    "df_['Proxy Information'] = df_['Proxy Information'].apply(ip_to_integer)\n",
    "\n",
    "df_.drop(columns=[\"Geo-location Data\",\"Source IP Address\",\"Destination IP Address\",\"Proxy Information\"],inplace=True)\n",
    "df_.head()"
   ]
  },
  {
   "cell_type": "code",
   "execution_count": null,
   "id": "d007e281",
   "metadata": {},
   "outputs": [],
   "source": [
    "\n",
    "corr_m = df_.corr()\n",
    "\n",
    "target = abs(corr_m[\"Attack Type\"])\n",
    "relevent = target[target > 0.01]\n",
    "X_ = list(dict(relevent).keys())\n",
    "X_.pop(0)\n",
    "\n",
    "X_"
   ]
  },
  {
   "cell_type": "code",
   "execution_count": null,
   "id": "e286af52",
   "metadata": {},
   "outputs": [],
   "source": [
    "# X variables for Intrusion Detection\n",
    "X = df_[X_]\n",
    "\n",
    "X.head()"
   ]
  },
  {
   "cell_type": "code",
   "execution_count": null,
   "id": "3c64be06",
   "metadata": {},
   "outputs": [],
   "source": [
    "X.info()"
   ]
  },
  {
   "cell_type": "code",
   "execution_count": null,
   "id": "e4bb0c84",
   "metadata": {},
   "outputs": [],
   "source": [
    "\n",
    "Y = df_['Attack Type']\n",
    "# Convert Y to categorical one-hot encoding\n",
    "Y = to_categorical(Y)"
   ]
  },
  {
   "cell_type": "code",
   "execution_count": null,
   "id": "a8d33820",
   "metadata": {},
   "outputs": [],
   "source": [
    "# Now splitting the data into training and testing parts\n",
    "\n",
    "x_train,x_test,y_train,y_test = train_test_split(X,Y,random_state=42)\n"
   ]
  },
  {
   "cell_type": "markdown",
   "id": "d4e3f1e2",
   "metadata": {},
   "source": [
    "### **Implementing the Keras Model**"
   ]
  },
  {
   "cell_type": "code",
   "execution_count": null,
   "id": "c2c80c80",
   "metadata": {},
   "outputs": [],
   "source": [
    "\n",
    "from keras.optimizers import Adam\n",
    "# Define the model\n",
    "model = Sequential()\n",
    "model.add(Dense(64, activation='relu', input_shape=(x_train.shape[1],)))\n",
    "model.add(Dropout(0.3))\n",
    "model.add(Dense(32, activation='relu'))\n",
    "model.add(Dropout(0.3))\n",
    "model.add(Dense(3, activation='softmax'))  # 3 classes for multi-class classification\n",
    "\n",
    "# Compile the model\n",
    "model.compile(optimizer=Adam(learning_rate=0.001), loss='categorical_crossentropy', metrics=['accuracy'])\n",
    "\n",
    "\n",
    "# get the summary of Keras Model\n",
    "model.summary()"
   ]
  },
  {
   "cell_type": "code",
   "execution_count": null,
   "id": "2bcc26db",
   "metadata": {},
   "outputs": [],
   "source": [
    "\n",
    "# Train the model\n",
    "history = model.fit(x_train, y_train, epochs=150, batch_size=64, validation_split=0.2,verbose=0)"
   ]
  },
  {
   "cell_type": "markdown",
   "id": "796f090e",
   "metadata": {},
   "source": [
    "### **Let us Evaluate our Model Performance**"
   ]
  },
  {
   "cell_type": "code",
   "execution_count": null,
   "id": "fd731c62",
   "metadata": {},
   "outputs": [],
   "source": [
    "\n",
    "# Evaluate the model\n",
    "loss, accuracy = model.evaluate(X, Y)\n",
    "print(f'Test Loss: {loss:.4f}')\n",
    "print(f'Prediction Accuracy: {accuracy:.4f}')\n",
    "\n",
    "# Get predictions from the model\n",
    "Y_pred_prob = model.predict(x_test)\n",
    "\n",
    "# Convert predicted probabilities to one-hot encoded format\n",
    "Y_pred = np.zeros_like(Y_pred_prob)\n",
    "Y_pred[np.arange(len(Y_pred_prob)), Y_pred_prob.argmax(axis=-1)] = 1\n",
    "\n",
    "# Calculate accuracy\n",
    "accuracy = np.mean(np.all(Y_pred == y_test, axis=1))\n",
    "print(f'Accuracy: {accuracy:.4f}')"
   ]
  },
  {
   "cell_type": "markdown",
   "id": "ec9ca720",
   "metadata": {},
   "source": [
    "## So, Now using Keras Model we predicted Attack Type "
   ]
  }
 ],
 "metadata": {
  "kernelspec": {
   "display_name": "Python 3",
   "language": "python",
   "name": "python3"
  },
  "language_info": {
   "codemirror_mode": {
    "name": "ipython",
    "version": 3
   },
   "file_extension": ".py",
   "mimetype": "text/x-python",
   "name": "python",
   "nbconvert_exporter": "python",
   "pygments_lexer": "ipython3",
   "version": "3.11.9"
  },
  "papermill": {
   "default_parameters": {},
   "duration": 10.529733,
   "end_time": "2023-10-21T07:20:18.341475",
   "environment_variables": {},
   "exception": null,
   "input_path": "__notebook__.ipynb",
   "output_path": "__notebook__.ipynb",
   "parameters": {},
   "start_time": "2023-10-21T07:20:07.811742",
   "version": "2.4.0"
  }
 },
 "nbformat": 4,
 "nbformat_minor": 5
}
